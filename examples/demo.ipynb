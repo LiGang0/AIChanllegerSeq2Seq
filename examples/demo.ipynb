{
 "cells": [
  {
   "cell_type": "markdown",
   "metadata": {},
   "source": [
    "# import 相应模块\n",
    "- jieba 中文分词\n",
    "- nltk 英文NLP工具\n"
   ]
  },
  {
   "cell_type": "code",
   "execution_count": 28,
   "metadata": {},
   "outputs": [],
   "source": [
    "import jieba\n",
    "import nltk\n",
    "import os\n",
    "import sys"
   ]
  },
  {
   "cell_type": "markdown",
   "metadata": {},
   "source": [
    "# change directory\n",
    "- hint : only run once"
   ]
  },
  {
   "cell_type": "code",
   "execution_count": 24,
   "metadata": {},
   "outputs": [
    {
     "name": "stdout",
     "output_type": "stream",
     "text": [
      "/home/crackhopper/proj/seq2seq\n"
     ]
    }
   ],
   "source": [
    "cd .."
   ]
  },
  {
   "cell_type": "code",
   "execution_count": 36,
   "metadata": {},
   "outputs": [],
   "source": [
    "from seq2seq.config import data_path"
   ]
  },
  {
   "cell_type": "code",
   "execution_count": 39,
   "metadata": {},
   "outputs": [
    {
     "name": "stdout",
     "output_type": "stream",
     "text": [
      "中文训练集 : /home/crackhopper/proj/seq2seq/data/train.zh\n",
      "英文训练集 : /home/crackhopper/proj/seq2seq/data/train.en\n"
     ]
    }
   ],
   "source": [
    "zh_filepath=os.path.abspath(os.path.join(data_path,\"train.zh\"))\n",
    "en_filepath=os.path.abspath(os.path.join(data_path,\"train.en\"))\n",
    "print \"中文训练集 : {}\".format(zh_filepath)\n",
    "print \"英文训练集 : {}\".format(en_filepath)"
   ]
  },
  {
   "cell_type": "markdown",
   "metadata": {},
   "source": [
    "# 计算样本个数"
   ]
  },
  {
   "cell_type": "code",
   "execution_count": 40,
   "metadata": {},
   "outputs": [
    {
     "name": "stdout",
     "output_type": "stream",
     "text": [
      "中文样本个数 : 9903244\n",
      "英文样本个数 : 9903244\n"
     ]
    }
   ],
   "source": [
    "\"\"\" Counting using splitlines. somehow we get a different count for En. \"\"\"\n",
    "def count_splitlines(filename):\n",
    "    return len(open(filename, mode='rb').read().splitlines())\n",
    "print \"中文样本个数 : {}\".format(count_splitlines(zh_filepath))\n",
    "print \"英文样本个数 : {}\".format(count_splitlines(en_filepath))"
   ]
  },
  {
   "cell_type": "code",
   "execution_count": 43,
   "metadata": {},
   "outputs": [],
   "source": [
    "def report_blank_lines(filename):\n",
    "    tot = 0\n",
    "    with open(filename) as f:\n",
    "        for i, l in enumerate(f):\n",
    "            if len(l.strip()) < 1:\n",
    "                print(\"[%d] %s[END]\" % (i, l))\n",
    "                tot = tot + 1\n",
    "    print(\"     total: %d\" % tot)"
   ]
  },
  {
   "cell_type": "code",
   "execution_count": 44,
   "metadata": {},
   "outputs": [
    {
     "name": "stdout",
     "output_type": "stream",
     "text": [
      "[1968464] \n",
      "[END]\n",
      "[8566142] \n",
      "[END]\n",
      "[9830439] \n",
      "[END]\n",
      "     total: 3\n"
     ]
    }
   ],
   "source": [
    "report_blank_lines(zh_filepath)"
   ]
  },
  {
   "cell_type": "code",
   "execution_count": 45,
   "metadata": {},
   "outputs": [
    {
     "name": "stdout",
     "output_type": "stream",
     "text": [
      "[174728] \n",
      "[END]\n",
      "     total: 1\n"
     ]
    }
   ],
   "source": [
    "report_blank_lines(en_filepath)"
   ]
  },
  {
   "cell_type": "code",
   "execution_count": null,
   "metadata": {
    "collapsed": true
   },
   "outputs": [],
   "source": []
  }
 ],
 "metadata": {
  "kernelspec": {
   "display_name": "Python [pytorch]",
   "language": "python",
   "name": "Python [pytorch]"
  },
  "language_info": {
   "codemirror_mode": {
    "name": "ipython",
    "version": 2
   },
   "file_extension": ".py",
   "mimetype": "text/x-python",
   "name": "python",
   "nbconvert_exporter": "python",
   "pygments_lexer": "ipython2",
   "version": "2.7.13"
  }
 },
 "nbformat": 4,
 "nbformat_minor": 1
}
